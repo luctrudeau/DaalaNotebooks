{
 "cells": [
  {
   "cell_type": "markdown",
   "metadata": {},
   "source": [
    "#Pragmatic Introduction to Daala: DCT Fundamentals\n",
    "Luc Trudeau"
   ]
  },
  {
   "cell_type": "markdown",
   "metadata": {},
   "source": [
    "## Why is the DCT used?\n",
    "\n",
    "The main interest in the discrete cosine transform (DCT) is that it will compact the energy of the values of an input vector. This turns out the be very usefull for compression.\n",
    "\n",
    "Let's consider the following vector:"
   ]
  },
  {
   "cell_type": "code",
   "execution_count": 3,
   "metadata": {
    "collapsed": false
   },
   "outputs": [
    {
     "name": "stdout",
     "output_type": "stream",
     "text": [
      "Populating the interactive namespace from numpy and matplotlib\n"
     ]
    },
    {
     "data": {
      "image/png": "[encoded data removed]",
      "text/plain": [
       "<matplotlib.figure.Figure at 0x10957dc50>"
      ]
     },
     "metadata": {},
     "output_type": "display_data"
    }
   ],
   "source": [
    "import numpy as np\n",
    "\n",
    "%pylab inline\n",
    "v = np.array([4, 2, 4, 2])\n",
    "\n",
    "def showEnergy(e, title):\n",
    "    x = np.arange(4)\n",
    "    pylab.bar(x, e)\n",
    "    pylab.yticks(range(0,5))\n",
    "    pylab.xticks([1, 2, 3, 4])\n",
    "    pylab.xlim(0, 4);\n",
    "    pylab.ylim(0, 5);\n",
    "    pylab.title(title)\n",
    "\n",
    "showEnergy(v, \"Energy of the input vector\")"
   ]
  },
  {
   "cell_type": "markdown",
   "metadata": {
    "collapsed": false
   },
   "source": [
    "## What does the DCT do?\n",
    "As you can see, the energy is spread accross the vector. Applying the DCT to _v_ will produce an output vector where most of the energy will be located at the beginning of the vector."
   ]
  },
  {
   "cell_type": "markdown",
   "metadata": {},
   "source": [
    "## How does the DCT work?\n",
    "\n",
    "If you lookup DCT on Wikipedia, you will find the DCT-II equation (we will use this form of the DCT):\n",
    "\n",
    "$$X_k = \\sum_{n=0}^{N-1} x_n \\cos \\left[ \\frac{\\pi}{N} \\left( n + \\frac{1}{2} \\right) k \\right] $$\n",
    "\n",
    "So what does this equation mean?\n",
    " * The variable $x$ is the input vector and $X$ is the output vector.\n",
    " * The variable $k$ is the index of the value we want to compute in the output vector. \n",
    " * The variable $N$ is the length of the vector.\n",
    "\n",
    "### The Basis functions\n",
    "The $\\cos$ might seem intimidating at first, but notice that there's is no $x$ inside of it. In other words, any input vector of length 4 will have the same $\\cos$ part. These are the 4 basis of our 4 point transform. Let's have a look at these basis:"
   ]
  },
  {
   "cell_type": "code",
   "execution_count": 43,
   "metadata": {
    "collapsed": false
   },
   "outputs": [
    {
     "data": {
      "image/png": "[encoded data removed]",
      "text/plain": [
       "<matplotlib.figure.Figure at 0x10a1f22e8>"
      ]
     },
     "metadata": {},
     "output_type": "display_data"
    }
   ],
   "source": [
    "pylab.figure(figsize=(15,3))\n",
    "\n",
    "def basis(k, N):\n",
    "    n = arange(0,N)\n",
    "    return cos(pi/N*(n+1/2)*k)\n",
    "\n",
    "def showBasisFunction(k):\n",
    "    pylab.bar(range(0,4), basis(k,len(v)))\n",
    "    pylab.yticks([-1, 0, 1])\n",
    "    pylab.xticks(range(0,5))\n",
    "    pylab.xlim(0, 4);\n",
    "    pylab.ylim(-1.1, 1.1);\n",
    "    pylab.title(\"k = %d\"%k)\n",
    "\n",
    "pylab.subplot(1,4,1)\n",
    "showBasisFunction(0)\n",
    "pylab.subplot(1,4,2)\n",
    "showBasisFunction(1)\n",
    "pylab.subplot(1,4,3)\n",
    "showBasisFunction(2)\n",
    "pylab.subplot(1,4,4)\n",
    "showBasisFunction(3)"
   ]
  },
  {
   "cell_type": "markdown",
   "metadata": {},
   "source": [
    "Notice that the first basis $(k = 0)$ does not oscillate, this basis is called the DC. The other basis oscillate and are referred to as AC. This is reminescent of direct current and alternating current: \n",
    "[![TypesOfCurrent](https://upload.wikimedia.org/wikipedia/commons/thumb/3/38/Types_of_current.svg/500px-Types_of_current.svg.png)](https://en.wikipedia.org/wiki/Direct_current)\n",
    "\n",
    "Notice that oscillations of the basis functions increase as $k$ increase, we will come back to this later. For now, let's use our basis function to perform the DCT on $v$. "
   ]
  },
  {
   "cell_type": "markdown",
   "metadata": {},
   "source": [
    "### Computing the DCT\n",
    "\n",
    "To compute our ouput vector we need to sum the multiplication of each value of the vector by the corresponding basis. "
   ]
  },
  {
   "cell_type": "code",
   "execution_count": 62,
   "metadata": {
    "collapsed": false
   },
   "outputs": [
    {
     "name": "stdout",
     "output_type": "stream",
     "text": [
      "Transformed input vector %s [[  1.60000000e+01]\n",
      " [  2.22044605e-16]\n",
      " [ -4.44089210e-16]\n",
      " [ -4.44089210e-16]]\n"
     ]
    }
   ],
   "source": [
    "def dct(v):\n",
    "    N = len(v)\n",
    "    X = np.zeros([4,1])\n",
    "    for k in range(0, N):\n",
    "        X[k] = sum(v[k] * basis(k, N))\n",
    "    return X\n",
    "\n",
    "X = dct(v)\n",
    "\n",
    "print(\"Transformed input vector %s\", X)"
   ]
  },
  {
   "cell_type": "code",
   "execution_count": 68,
   "metadata": {
    "collapsed": false
   },
   "outputs": [
    {
     "data": {
      "image/png": "[encoded data removed]",
      "text/plain": [
       "<matplotlib.figure.Figure at 0x1095c2908>"
      ]
     },
     "metadata": {},
     "output_type": "display_data"
    }
   ],
   "source": [
    "pylab.figure(figsize=(15,3))\n",
    "def showTransformedEnergy(e, title):\n",
    "    x = np.arange(4)\n",
    "    pylab.bar(x, e)\n",
    "    pylab.xticks([1, 2, 3, 4])\n",
    "    pylab.xlim(0, 4);\n",
    "    pylab.ylim(-1, 17);\n",
    "    pylab.title(title)\n",
    "    \n",
    "pylab.subplot(1,2,1)\n",
    "showTransformedEnergy(X, \"Energy of the transformed input vector\")\n",
    "pylab.subplot(1,2,2)\n",
    "showTransformedEnergy(v, \"Energy of the input vector\")"
   ]
  },
  {
   "cell_type": "markdown",
   "metadata": {},
   "source": [
    "> Wait a second, if I use the dct function in << INSERT FAVORITE MATH SOFTWARE HERE >> I get [6 0.7654 0 1.8478] as my transformed vector, what's going on?\n",
    "\n",
    "That will be the topic of part 2\n",
    "\n",
    "![To Be Continued](images/continued.jpg)\n",
    "\n",
    "**Let me know what you want to see in part 2 (Twitter @LT_Pragmatic).**"
   ]
  },
  {
   "cell_type": "markdown",
   "metadata": {},
   "source": [
    "##Further Reading\n",
    "\n",
    " - Wikipedia, _Discrete cosine transform_, https://en.wikipedia.org/wiki/Discrete_cosine_transform\n",
    " - Yao Wang, _DCT and Transform Coding_, http://eeweb.poly.edu/~yao/EE3414/ImageCoding_DCT.pdf"
   ]
  },
  {
   "cell_type": "code",
   "execution_count": null,
   "metadata": {
    "collapsed": true
   },
   "outputs": [],
   "source": []
  }
 ],
 "metadata": {
  "kernelspec": {
   "display_name": "Python 3",
   "language": "python",
   "name": "python3"
  },
  "language_info": {
   "codemirror_mode": {
    "name": "ipython",
    "version": 3
   },
   "file_extension": ".py",
   "mimetype": "text/x-python",
   "name": "python",
   "nbconvert_exporter": "python",
   "pygments_lexer": "ipython3",
   "version": "3.4.3"
  }
 },
 "nbformat": 4,
 "nbformat_minor": 0
}
