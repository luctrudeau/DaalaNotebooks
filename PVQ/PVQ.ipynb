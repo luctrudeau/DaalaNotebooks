{
 "cells": [
  {
   "cell_type": "markdown",
   "metadata": {},
   "source": [
    "#A Pragmatic Introduction to Perceptual Vector Quantization (part 1)\n",
    "###Luc Trudeau\n",
    "\n",
    "## Context\n",
    "This guide explains Perceptual Vector Quantization by presenting it in a practical context. By pratical, I mean that we will implement the Perceptual Vector Quantization in python right here in this notebook. The intended audience is mainly programmers, not necessarily python programmers, and the idea is that you can leverage your programming skills to better understand Perceptual Vector Quantization.\n",
    "\n",
    "Our objective for this first part is to \"_perceptually vector quantize_\" the following vector **v**:"
   ]
  },
  {
   "cell_type": "code",
   "execution_count": 1,
   "metadata": {
    "collapsed": false
   },
   "outputs": [],
   "source": [
    "from numpy import array\n",
    "\n",
    "v = array([1,3,3,7])"
   ]
  },
  {
   "cell_type": "markdown",
   "metadata": {},
   "source": [
    "> What does it even mean to \"_vector quantize_\" something?\n",
    "\n",
    "Let's start with quantization. Here's an example of quantization:\n",
    "![](images/quantization.png)\n",
    "In this example, an image with 96615 colors is quantized to 64 colors. The python code of this quantization example is available [here](http://scikit-learn.org/stable/auto_examples/cluster/plot_color_quantization.html).\n",
    "\n",
    "Vector quantization is a fancy way of saying that we want to convert the whole vector into a single code. This code is called a codeword. The idea is that all the codewords are defined in a codebook. Before we present the codebook, let's start with the concepts of gain and shape, which will be needed to better understand how codewords work.\n",
    "\n",
    "## Gain and Shape\n",
    "To \"_perceptually vector quantize_\" **v**, we must first compute the norm of **v**:"
   ]
  },
  {
   "cell_type": "code",
   "execution_count": 2,
   "metadata": {
    "collapsed": false
   },
   "outputs": [
    {
     "name": "stdout",
     "output_type": "stream",
     "text": [
      "Norm (aka gain) of v = 8.246211\n"
     ]
    }
   ],
   "source": [
    "from numpy import sqrt\n",
    "from numpy import dot\n",
    "\n",
    "def gain(v):\n",
    "    return sqrt(dot(v,v))\n",
    "print(\"Norm (aka gain) of v = %f\" % (gain(v)))"
   ]
  },
  {
   "cell_type": "markdown",
   "metadata": {},
   "source": [
    "As you noticed, we refer to the norm of **v** as the gain of **v**, which represents the amount of energy in the **v** (_I know there's a norm function in numpy, but doing it this way shows you why the gain measures energy_).\n",
    "\n",
    "The next thing we need is the unit vector of **v**:"
   ]
  },
  {
   "cell_type": "code",
   "execution_count": 3,
   "metadata": {
    "collapsed": false
   },
   "outputs": [
    {
     "name": "stdout",
     "output_type": "stream",
     "text": [
      "Unit vector (aka shape): [ 0.12126781  0.36380344  0.36380344  0.84887469]\n"
     ]
    }
   ],
   "source": [
    "from numpy import divide\n",
    "\n",
    "def shape(v):\n",
    "    return divide(v, gain(v))\n",
    "print(\"Unit vector (aka shape): %s\" % (shape(v)))"
   ]
  },
  {
   "cell_type": "markdown",
   "metadata": {},
   "source": [
    "We refer to the unit vector of **v** as the shape of **v**. As its name suggest, the values of this vector show the shape of the energy distribution of **v**. The **shape** vector is in the same direction as **v** but is squaled to unit length. \n",
    "\n",
    "We can get back **v** from **shape** like so:"
   ]
  },
  {
   "cell_type": "code",
   "execution_count": 4,
   "metadata": {
    "collapsed": false
   },
   "outputs": [
    {
     "name": "stdout",
     "output_type": "stream",
     "text": [
      "v = [ 1.  3.  3.  7.]\n"
     ]
    }
   ],
   "source": [
    "print(\"v = %s\" % (shape(v) * gain(v)))"
   ]
  },
  {
   "cell_type": "markdown",
   "metadata": {},
   "source": [
    "Instead of \"_perceptually vector quantizing_\" **v**, we will \"_perceptually vector quantize_\" **shape** and \"_scalar quantize_\" **gain**.\n",
    "\n",
    ">Wait a second, this requires \"_perceptually vector quantizing_\" 4 values, plus \"_scalar quantizing_\" the gain. How is this better than just \"_perceptually vector quantizing_\" the 4 values of **v**? \n",
    "\n",
    "![](images/consider.jpg)"
   ]
  },
  {
   "cell_type": "code",
   "execution_count": 5,
   "metadata": {
    "collapsed": false
   },
   "outputs": [
    {
     "name": "stdout",
     "output_type": "stream",
     "text": [
      "Gain of v2 = 16.4924225025\n",
      "Shape of v2 = [ 0.12126781  0.36380344  0.36380344  0.84887469]\n"
     ]
    }
   ],
   "source": [
    "v2 = [2,6,6,14]\n",
    "print(\"Gain of v2 = %s\" % (gain(v2)))\n",
    "print(\"Shape of v2 = %s\" % (shape(v2)))"
   ]
  },
  {
   "cell_type": "code",
   "execution_count": 6,
   "metadata": {
    "collapsed": true
   },
   "outputs": [],
   "source": [
    "assert(shape(v).all() == shape(v2).all())"
   ]
  },
  {
   "cell_type": "markdown",
   "metadata": {},
   "source": [
    "By using the shape of the **v** instead of the **v** itself, all vectors with the same shape will have the same codeword. Vectors with the same shape, are vectors that point in the same direction. In other words all different scales of the same vector. There's more to it than that, but for now let's focus on building the codebook.\n",
    "\n",
    "## Building the codebook\n",
    "You might have imagined the codebook as a big book of codes, each code cherry picked by an engineer for optimal performance. This is not that type of codebook, basically a simple equation is used to generate all possible values. The equation is: The sum of absolute values of the codeword must sum to **k**.\n",
    "\n",
    "Just for fun (because we **won't** need it later) let's build the codebook. This is probably not the fastest way to build the codebook, but it should be easy to understand. We have 4 nested loops because we have 4 elements in **v**. Since the absolute value operator is used, valid values range from -**k** to **k**."
   ]
  },
  {
   "cell_type": "code",
   "execution_count": 7,
   "metadata": {
    "collapsed": false
   },
   "outputs": [
    {
     "name": "stdout",
     "output_type": "stream",
     "text": [
      "-2, 0, 0, 0\n",
      "-1, -1, 0, 0\n",
      "-1, 0, -1, 0\n",
      "-1, 0, 0, -1\n",
      "-1, 0, 0, 1\n",
      "-1, 0, 1, 0\n",
      "-1, 1, 0, 0\n",
      "0, -2, 0, 0\n",
      "0, -1, -1, 0\n",
      "0, -1, 0, -1\n",
      "0, -1, 0, 1\n",
      "0, -1, 1, 0\n",
      "0, 0, -2, 0\n",
      "0, 0, -1, -1\n",
      "0, 0, -1, 1\n",
      "0, 0, 0, -2\n",
      "0, 0, 0, 2\n",
      "0, 0, 1, -1\n",
      "0, 0, 1, 1\n",
      "0, 0, 2, 0\n",
      "0, 1, -1, 0\n",
      "0, 1, 0, -1\n",
      "0, 1, 0, 1\n",
      "0, 1, 1, 0\n",
      "0, 2, 0, 0\n",
      "1, -1, 0, 0\n",
      "1, 0, -1, 0\n",
      "1, 0, 0, -1\n",
      "1, 0, 0, 1\n",
      "1, 0, 1, 0\n",
      "1, 1, 0, 0\n",
      "2, 0, 0, 0\n"
     ]
    }
   ],
   "source": [
    "k = 2\n",
    "codebook = [] \n",
    "\n",
    "for x0 in range(-k,k+1):\n",
    "    for x1 in range(-k,k+1):\n",
    "        for x2 in range(-k,k+1):\n",
    "            for x3 in range(-k,k+1):\n",
    "                if abs(x0) + abs(x1) + abs(x2) + abs(x3) == k:\n",
    "                    codebook.append([x0, x1, x2, x3])\n",
    "                    print(\"%d, %d, %d, %d\" % (x0, x1, x2, x3))"
   ]
  },
  {
   "cell_type": "markdown",
   "metadata": {},
   "source": [
    "Sorry about that, but that's not the right codebook, it's the codebook for **v**. Like we said before, instead of using **v** we are using the shape of **v**. The codebook for the shape of **v** contains the normalized versions of the previous codewords."
   ]
  },
  {
   "cell_type": "code",
   "execution_count": 8,
   "metadata": {
    "collapsed": false
   },
   "outputs": [
    {
     "name": "stdout",
     "output_type": "stream",
     "text": [
      "[-1.  0.  0.  0.]\n",
      "[-0.70710678 -0.70710678  0.          0.        ]\n",
      "[-0.70710678  0.         -0.70710678  0.        ]\n",
      "[-0.70710678  0.          0.         -0.70710678]\n",
      "[-0.70710678  0.          0.          0.70710678]\n",
      "[-0.70710678  0.          0.70710678  0.        ]\n",
      "[-0.70710678  0.70710678  0.          0.        ]\n",
      "[ 0. -1.  0.  0.]\n",
      "[ 0.         -0.70710678 -0.70710678  0.        ]\n",
      "[ 0.         -0.70710678  0.         -0.70710678]\n",
      "[ 0.         -0.70710678  0.          0.70710678]\n",
      "[ 0.         -0.70710678  0.70710678  0.        ]\n",
      "[ 0.  0. -1.  0.]\n",
      "[ 0.          0.         -0.70710678 -0.70710678]\n",
      "[ 0.          0.         -0.70710678  0.70710678]\n",
      "[ 0.  0.  0. -1.]\n",
      "[ 0.  0.  0.  1.]\n",
      "[ 0.          0.          0.70710678 -0.70710678]\n",
      "[ 0.          0.          0.70710678  0.70710678]\n",
      "[ 0.  0.  1.  0.]\n",
      "[ 0.          0.70710678 -0.70710678  0.        ]\n",
      "[ 0.          0.70710678  0.         -0.70710678]\n",
      "[ 0.          0.70710678  0.          0.70710678]\n",
      "[ 0.          0.70710678  0.70710678  0.        ]\n",
      "[ 0.  1.  0.  0.]\n",
      "[ 0.70710678 -0.70710678  0.          0.        ]\n",
      "[ 0.70710678  0.         -0.70710678  0.        ]\n",
      "[ 0.70710678  0.          0.         -0.70710678]\n",
      "[ 0.70710678  0.          0.          0.70710678]\n",
      "[ 0.70710678  0.          0.70710678  0.        ]\n",
      "[ 0.70710678  0.70710678  0.          0.        ]\n",
      "[ 1.  0.  0.  0.]\n"
     ]
    }
   ],
   "source": [
    "i = 0\n",
    "for codeword in codebook:\n",
    "    codebook[i] = shape(codeword)\n",
    "    print(codebook[i])\n",
    "    i = i + 1"
   ]
  },
  {
   "cell_type": "markdown",
   "metadata": {},
   "source": [
    "##The parameter k\n",
    "\n",
    "> What's **k** again?\n",
    "\n",
    "The parameter **k** is the value that the absolute values of the elements of the codeword must sum to in order to be part of the codebook. A higher value for **k** will generate a much bigger codebook (_try it out, change the value of k to 5 instead of 2_).\n",
    "\n",
    "> Are more codewords better?\n",
    "\n",
    "Well you don't want too few codewords because you won't have enough precision, and too many codewords will lead to wasted processing, so you need just enough codewords. It just so happens that the gain is a good indicator of \"_just enough codewords_\".\n",
    "\n",
    "##Finding the code\n",
    "\n",
    "> Aren't we suppose to \"_vector quantize_\" something at some point?\n",
    "\n",
    "Almost there, we just need to specify a value for **k**. The \"_vector quantize_\" value of **v** depends on **k**. For this example, let's continue with **k** = 2.\n",
    "\n",
    "A nice feature of our codebook is **that we don't need it** (best feature ever). We know the rule: the sum of the absolute values of the elements of the codeword must be equal to **k**. We don't need the codebook, all we can do is to find the smallest change to **v** so that sum of the absolute value of its elemens is **k**.\n",
    "\n",
    "One (not very efficient, but easy to understand) way of doing this is to spread **k** over the distribution."
   ]
  },
  {
   "cell_type": "code",
   "execution_count": 9,
   "metadata": {
    "collapsed": false
   },
   "outputs": [
    {
     "name": "stdout",
     "output_type": "stream",
     "text": [
      "Perceptual Vector Quantization of v = [ 0.          0.          0.4472136   0.89442719] \n"
     ]
    }
   ],
   "source": [
    "from numpy import argmax\n",
    "from numpy import sign\n",
    "from numpy import copy\n",
    "from numpy import round\n",
    "import sys\n",
    "\n",
    "def findCode(v, k):\n",
    "    _shape = shape(v)\n",
    "\n",
    "    # Here we spread k of the shape. Without rounding it sums to k, but the elements of the codeword must be integers\n",
    "    codeword = round(_shape/sum(abs(_shape))*k)\n",
    "    sa = sum(abs(codeword))\n",
    "    \n",
    "    if sa != k:\n",
    "        step = sign(k - sa)\n",
    "        while sa != k:\n",
    "            minsse = sys.maxsize\n",
    "            for i in range(0,4): # Iteratively apply step to every element and keep the best.\n",
    "                codeword[i] = codeword[i] + step \n",
    "                sse = sum((_shape - shape(codeword))**2)\n",
    "            \n",
    "                if sse < minsse:\n",
    "                    bestI = i\n",
    "                    minsse = sse\n",
    "                    \n",
    "                codeword[i] = codeword[i] - step #Undo the step   \n",
    "            \n",
    "            codeword[bestI] = codeword[bestI] + step # Perform best step\n",
    "            sa = sa + step\n",
    "\n",
    "    return codeword\n",
    "        \n",
    "print(\"Perceptual Vector Quantization of v = %s \" % (shape(findCode(v,3))))"
   ]
  },
  {
   "cell_type": "markdown",
   "metadata": {},
   "source": [
    "##We did it!\n",
    "we \"_perceptually vector quantized_\" **v**! You can check the codeword is in the codebook.\n",
    "\n",
    "The burning question now is: \"how good is our quantization of **v**?\". Let's find out: "
   ]
  },
  {
   "cell_type": "code",
   "execution_count": 11,
   "metadata": {
    "collapsed": false
   },
   "outputs": [
    {
     "name": "stdout",
     "output_type": "stream",
     "text": [
      "Reconstructed v = [ 0.          5.83095189  0.          5.83095189]\n",
      "Sum of Absolute Difference: 8.000000\n",
      "Sum of Squared Error: 19.380962\n"
     ]
    }
   ],
   "source": [
    "recon = shape(findCode(v,2)) * gain(v)\n",
    "print(\"Reconstructed v = %s\" % (recon))\n",
    "print(\"Sum of Absolute Difference: %f\" % (sum(abs(recon - v))))\n",
    "print(\"Sum of Squared Error: %f\" % (sum((recon - v)**2)))\n"
   ]
  },
  {
   "cell_type": "markdown",
   "metadata": {},
   "source": [
    "Yikes! That's far from **v**.\n",
    "\n",
    "## Increasing k\n",
    "Let's see what happens when we increase **k**:"
   ]
  },
  {
   "cell_type": "code",
   "execution_count": 12,
   "metadata": {
    "collapsed": false
   },
   "outputs": [
    {
     "name": "stdout",
     "output_type": "stream",
     "text": [
      "Reconstructed v = [ 0.          2.48632624  2.48632624  7.45897873]\n",
      "Sum of Absolute Difference: 2.486326\n",
      "Sum of Squared Error: 1.738383\n"
     ]
    }
   ],
   "source": [
    "recon = shape(findCode(v,5)) * gain(v)\n",
    "print(\"Reconstructed v = %s\" % (recon))\n",
    "print(\"Sum of Absolute Difference: %f\" % (sum(abs(recon - v))))\n",
    "print(\"Sum of Squared Error: %f\" % (sum((recon - v)**2)))"
   ]
  },
  {
   "cell_type": "markdown",
   "metadata": {},
   "source": [
    "By adding more codes to our codebook, we decrease the error. Let's draw a plot to better understand what happens to the error when we increase k."
   ]
  },
  {
   "cell_type": "code",
   "execution_count": 13,
   "metadata": {
    "collapsed": false
   },
   "outputs": [
    {
     "name": "stdout",
     "output_type": "stream",
     "text": [
      "[ 0.          5.83095189  0.          5.83095189]\n",
      "[ 0.          0.          3.68781778  7.37563557]\n",
      "[ 0.          3.36650165  3.36650165  6.73300329]\n",
      "[ 0.          2.48632624  2.48632624  7.45897873]\n",
      "[ 2.38047614  2.38047614  2.38047614  7.14142843]\n",
      "[ 0.          3.59894164  1.79947082  7.19788329]\n",
      "[ 0.          3.36650165  3.36650165  6.73300329]\n",
      "[ 1.64924225  3.2984845   3.2984845   6.596969  ]\n",
      "[ 1.41421356  2.82842712  2.82842712  7.07106781]\n",
      "[ 1.22927259  2.45854519  2.45854519  7.37563557]\n",
      "[ 1.16619038  2.33238076  3.49857114  6.99714227]\n",
      "[ 1.1119189   3.33575669  3.33575669  6.67151339]\n",
      "[ 1.  3.  3.  7.]\n",
      "[ 0.90513928  2.71541783  2.71541783  7.24111421]\n",
      "[ 0.86922699  3.47690795  2.60768096  6.9538159 ]\n",
      "[ 0.8372759   3.34910359  3.34910359  6.69820718]\n",
      "[ 0.77232845  3.08931378  3.08931378  6.95095601]\n",
      "[ 0.7150372   2.86014879  2.86014879  7.15037199]\n"
     ]
    },
    {
     "data": {
      "image/png": "[encoded data removed]",
      "text/plain": [
       "<matplotlib.figure.Figure at 0x11206a278>"
      ]
     },
     "metadata": {},
     "output_type": "display_data"
    }
   ],
   "source": [
    "%matplotlib inline\n",
    "\n",
    "import matplotlib\n",
    "import matplotlib.pyplot as plt\n",
    "\n",
    "sad = []\n",
    "sse = []\n",
    "numKs = 20\n",
    "\n",
    "for k in range(2,numKs):\n",
    "    recon = shape(findCode(v,k)) * gain(v)\n",
    "    print(recon)\n",
    "    sad.append(sum(abs(recon - v)))\n",
    "    sse.append(sum((recon - v)**2))\n",
    "\n",
    "plt.plot(range(2,numKs), sad, label='SAD')\n",
    "plt.plot(range(2,numKs), sse, label='SSE')\n",
    "plt.xlabel(\"k\")\n",
    "legend = plt.legend(loc='upper center', shadow=True)"
   ]
  },
  {
   "cell_type": "markdown",
   "metadata": {},
   "source": [
    "Notice that at **k**=14 the error is zero. This is because the sum of **v** is 14. In other words, when **k**=14, **v** is in the codebook.\n",
    "\n",
    "#Conclusion\n",
    "So there you have it, as promised we \"_perceptually vector quantized_\" something. As we have seen, vector quantization involves finding (or computing) a codeword for a given vector. Perceptual vector quantization uses a codebook made up of all the codewords where the sum of the absolute values of their elements is **k**. You get to pick and chose **k**, a low value of **k** will result in a small codebook and little precision. Increasing the value of **k** improves the precision (up to a certain point).\n",
    "\n",
    "**Let me know what you want to see in part 2 (Twitter @LT_Pragmatic).**\n",
    "\n",
    "# Further reading\n",
    "This work is based on:\n",
    " * The [Perceptual Vector Quantization demo](https://people.xiph.org/~jm/daala/pvq_demo/)\n",
    " * The paper [Perceptual Vector Quantization for Video Coding](http://jmvalin.ca/papers/spie_pvq.pdf) by Jean-Marc Valin and Timothy B. Terriberry"
   ]
  },
  {
   "cell_type": "code",
   "execution_count": null,
   "metadata": {
    "collapsed": true
   },
   "outputs": [],
   "source": []
  }
 ],
 "metadata": {
  "kernelspec": {
   "display_name": "Python 3",
   "language": "python",
   "name": "python3"
  },
  "language_info": {
   "codemirror_mode": {
    "name": "ipython",
    "version": 3
   },
   "file_extension": ".py",
   "mimetype": "text/x-python",
   "name": "python",
   "nbconvert_exporter": "python",
   "pygments_lexer": "ipython3",
   "version": "3.4.3"
  }
 },
 "nbformat": 4,
 "nbformat_minor": 0
}
